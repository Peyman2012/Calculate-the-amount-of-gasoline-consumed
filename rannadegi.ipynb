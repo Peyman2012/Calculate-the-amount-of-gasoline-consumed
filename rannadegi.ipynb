{
 "cells": [
  {
   "cell_type": "code",
   "execution_count": 1,
   "metadata": {},
   "outputs": [],
   "source": [
    "sumMile=0\n",
    "sumGallons=0"
   ]
  },
  {
   "cell_type": "code",
   "execution_count": 21,
   "metadata": {},
   "outputs": [
    {
     "name": "stdout",
     "output_type": "stream",
     "text": [
      "Enter the galon used (-1 to end):72\n"
     ]
    }
   ],
   "source": [
    "gallon=int(input(\"Enter the galon used (-1 to end):\"))"
   ]
  },
  {
   "cell_type": "code",
   "execution_count": 22,
   "metadata": {},
   "outputs": [
    {
     "name": "stdout",
     "output_type": "stream",
     "text": [
      "Enter the miles driven:10\n"
     ]
    }
   ],
   "source": [
    "mile=int(input(\"Enter the miles driven:\"))"
   ]
  },
  {
   "cell_type": "code",
   "execution_count": 23,
   "metadata": {},
   "outputs": [],
   "source": [
    "rate=mile / gallon"
   ]
  },
  {
   "cell_type": "code",
   "execution_count": 24,
   "metadata": {},
   "outputs": [
    {
     "name": "stdout",
     "output_type": "stream",
     "text": [
      "The miles / gallons for this tank was  0.1388888888888889\n"
     ]
    }
   ],
   "source": [
    "print(\"The miles / gallons for this tank was \",rate)"
   ]
  },
  {
   "cell_type": "code",
   "execution_count": 25,
   "metadata": {},
   "outputs": [],
   "source": [
    "sumMile+=mile"
   ]
  },
  {
   "cell_type": "code",
   "execution_count": 26,
   "metadata": {},
   "outputs": [],
   "source": [
    "sumGallons+=gallon"
   ]
  },
  {
   "cell_type": "code",
   "execution_count": 27,
   "metadata": {},
   "outputs": [],
   "source": [
    "averange=sumMile/sumGallons"
   ]
  },
  {
   "cell_type": "code",
   "execution_count": 28,
   "metadata": {},
   "outputs": [
    {
     "name": "stdout",
     "output_type": "stream",
     "text": [
      "The overall averange miles / gallons was  0.5303030303030303\n"
     ]
    }
   ],
   "source": [
    "print(\"The overall averange miles / gallons was \",averange)"
   ]
  },
  {
   "cell_type": "code",
   "execution_count": 3,
   "metadata": {},
   "outputs": [
    {
     "name": "stdout",
     "output_type": "stream",
     "text": [
      "Enter the galon used (-1 to end):10\n",
      "Enter the miles driven:50\n",
      "The miles / gallons for this tank was  5.0\n",
      "The overall averange miles / gallons was  5.0\n",
      "Enter the galon used (-1 to end):-1\n"
     ]
    }
   ],
   "source": [
    "while True:\n",
    "    sumMile=0\n",
    "    sumGallons=0\n",
    "    gallon=int(input(\"Enter the galon used (-1 to end):\"))\n",
    "    if gallon==-1:\n",
    "        break\n",
    "    mile=int(input(\"Enter the miles driven:\"))\n",
    "    rate=mile / gallon\n",
    "    print(\"The miles / gallons for this tank was \",rate)\n",
    "    sumMile+=mile\n",
    "    sumGallons+=gallon\n",
    "    averange=sumMile/sumGallons\n",
    "    print(\"The overall averange miles / gallons was \",averange)\n",
    "        \n",
    "    "
   ]
  },
  {
   "cell_type": "code",
   "execution_count": null,
   "metadata": {},
   "outputs": [],
   "source": []
  }
 ],
 "metadata": {
  "kernelspec": {
   "display_name": "Python 3",
   "language": "python",
   "name": "python3"
  },
  "language_info": {
   "codemirror_mode": {
    "name": "ipython",
    "version": 3
   },
   "file_extension": ".py",
   "mimetype": "text/x-python",
   "name": "python",
   "nbconvert_exporter": "python",
   "pygments_lexer": "ipython3",
   "version": "3.6.13"
  }
 },
 "nbformat": 4,
 "nbformat_minor": 2
}
